{
 "cells": [
  {
   "cell_type": "code",
   "execution_count": null,
   "id": "fc77e081-ef89-4329-a1f2-84d581cc21ac",
   "metadata": {},
   "outputs": [],
   "source": [
    "\"\"\"\n",
    "1. Question: SQL-to-JSON Transformation\n",
    "You are given a list of rows from an SQL database represented as a list of dictionaries, where each dictionary corresponds to a row. Each row contains user_id, name, age, and city.\n",
    "\n",
    "Write a Python function transform_data(rows: List[Dict[str, Union[str, int]]]) -> Dict[int, Dict[str, Union[str, int]]] that transforms the data into a dictionary format where the keys are the user_id values, and the corresponding value is a dictionary of the remaining fields (name, age, city).\n",
    "\n",
    "Example:\n",
    "rows = [\n",
    "    {\"user_id\": 1, \"name\": \"Alice\", \"age\": 25, \"city\": \"New York\"},\n",
    "    {\"user_id\": 2, \"name\": \"Bob\", \"age\": 30, \"city\": \"San Francisco\"}\n",
    "]\n",
    "Output:\n",
    "{\n",
    "    1: {\"name\": \"Alice\", \"age\": 25, \"city\": \"New York\"},\n",
    "    2: {\"name\": \"Bob\", \"age\": 30, \"city\": \"San Francisco\"}\n",
    "}\n",
    "\"\"\""
   ]
  },
  {
   "cell_type": "code",
   "execution_count": 5,
   "id": "c4a8241d-1a9a-46e2-8e18-66041a638ce3",
   "metadata": {},
   "outputs": [
    {
     "name": "stdout",
     "output_type": "stream",
     "text": [
      "{1: {'name': 'Alice', 'age': 25, 'city': 'New York'}, 2: {'name': 'Bob', 'age': 30, 'city': 'San Francisco'}}\n"
     ]
    }
   ],
   "source": [
    "from typing import List, Dict, Union\n",
    "\n",
    "def transform_data(rows: List[Dict[str, Union[str, int]]]) -> Dict[int, Dict[str, Union[str, int]]]:\n",
    "    transformed_data = {}\n",
    "    \n",
    "    # Iterate through each row\n",
    "    for row in rows:\n",
    "        # Extract the user_id\n",
    "        user_id = row[\"user_id\"]\n",
    "        # Create a new dictionary for the remaining fields (name, age, city)\n",
    "        transformed_data[user_id] = {\n",
    "            \"name\": row[\"name\"],\n",
    "            \"age\": row[\"age\"],\n",
    "            \"city\": row[\"city\"]\n",
    "        }\n",
    "    \n",
    "    return transformed_data\n",
    "\n",
    "# Example usage\n",
    "rows = [\n",
    "    {\"user_id\": 1, \"name\": \"Alice\", \"age\": 25, \"city\": \"New York\"},\n",
    "    {\"user_id\": 2, \"name\": \"Bob\", \"age\": 30, \"city\": \"San Francisco\"}\n",
    "]\n",
    "\n",
    "output = transform_data(rows)\n",
    "print(output)\n",
    "\n"
   ]
  },
  {
   "cell_type": "code",
   "execution_count": null,
   "id": "11f9b249-0b30-4199-81dd-580f9201e736",
   "metadata": {},
   "outputs": [],
   "source": [
    "\"\"\"\n",
    "2. Question: Process Log Files\n",
    "You are given a list of log file entries, where each entry is a string in the format \"[timestamp] user_id action\". The action can be either \"start\" or \"stop\". Your task is to write a Python function process_logs(logs: List[str]) -> Dict[int, int] that returns a dictionary mapping each user_id to the total duration (in seconds) they were active (i.e., between start and stop).\n",
    "\n",
    "Assume:\n",
    "\n",
    "All start actions are followed by a stop for the same user.\n",
    "The timestamp is in the format \"YYYY-MM-DD HH:MM:SS\".\n",
    "Example:\n",
    "logs = [\n",
    "    \"[2024-01-01 10:00:00] 1 start\",\n",
    "    \"[2024-01-01 10:05:00] 1 stop\",\n",
    "    \"[2024-01-01 10:00:00] 2 start\",\n",
    "    \"[2024-01-01 10:10:00] 2 stop\"\n",
    "]\n",
    "Output:\n",
    "{\n",
    "    1: 300,  # 5 minutes\n",
    "    2: 600   # 10 minutes\n",
    "}\n",
    "\"\"\""
   ]
  },
  {
   "cell_type": "code",
   "execution_count": 7,
   "id": "9491ff4c-6c83-4ec8-96b0-94e084458146",
   "metadata": {},
   "outputs": [
    {
     "name": "stdout",
     "output_type": "stream",
     "text": [
      "{1: 300, 2: 600}\n"
     ]
    }
   ],
   "source": [
    "from typing import List, Dict\n",
    "from datetime import datetime\n",
    "\n",
    "def process_logs(logs: List[str]) -> Dict[int, int]:\n",
    "    user_sessions = {}\n",
    "    user_start_times = {}\n",
    "\n",
    "    # Iterate through each log entry\n",
    "    for log in logs:\n",
    "        # Remove the square brackets and split the log entry into components\n",
    "        parts = log.replace('[', '').replace(']', '').split()\n",
    "        timestamp_str = parts[0] + ' ' + parts[1]  # Combine date and time parts\n",
    "        timestamp = datetime.strptime(timestamp_str, \"%Y-%m-%d %H:%M:%S\")  # Convert to datetime object\n",
    "        user_id = int(parts[2])\n",
    "        action = parts[3]\n",
    "\n",
    "        if action == \"start\":\n",
    "            # Record the start time for this user\n",
    "            user_start_times[user_id] = timestamp\n",
    "        elif action == \"stop\":\n",
    "            # Calculate the duration for this session and update the total time\n",
    "            start_time = user_start_times.pop(user_id, None)\n",
    "            if start_time:\n",
    "                duration = (timestamp - start_time).total_seconds()\n",
    "                user_sessions[user_id] = user_sessions.get(user_id, 0) + int(duration)\n",
    "\n",
    "    return user_sessions\n",
    "\n",
    "# Example usage\n",
    "logs = [\n",
    "    \"[2024-01-01 10:00:00] 1 start\",\n",
    "    \"[2024-01-01 10:05:00] 1 stop\",\n",
    "    \"[2024-01-01 10:00:00] 2 start\",\n",
    "    \"[2024-01-01 10:10:00] 2 stop\"\n",
    "]\n",
    "\n",
    "output = process_logs(logs)\n",
    "print(output)\n",
    "\n"
   ]
  },
  {
   "cell_type": "code",
   "execution_count": null,
   "id": "544172fc-d613-4d7a-8ad4-3c50963cc5a9",
   "metadata": {},
   "outputs": [],
   "source": [
    "\"\"\"\n",
    "3.Question: Data Deduplication\n",
    "You are given a list of dictionaries representing records, where each dictionary contains id, name, and email. Write a Python function deduplicate(records: List[Dict[str, str]]) -> List[Dict[str, str]] that removes duplicate records based on the email field and returns a list of unique records. Keep the first occurrence of each email.\n",
    "\n",
    "Example:\n",
    "records = [\n",
    "    {\"id\": \"1\", \"name\": \"Alice\", \"email\": \"alice@example.com\"},\n",
    "    {\"id\": \"2\", \"name\": \"Bob\", \"email\": \"bob@example.com\"},\n",
    "    {\"id\": \"3\", \"name\": \"Alice\", \"email\": \"alice@example.com\"}\n",
    "]\n",
    "Output:\n",
    "[\n",
    "    {\"id\": \"1\", \"name\": \"Alice\", \"email\": \"alice@example.com\"},\n",
    "    {\"id\": \"2\", \"name\": \"Bob\", \"email\": \"bob@example.com\"}\n",
    "]\n",
    "\"\"\""
   ]
  },
  {
   "cell_type": "code",
   "execution_count": 8,
   "id": "2da27813-84bd-4222-bf0e-dddaa56770e7",
   "metadata": {},
   "outputs": [
    {
     "name": "stdout",
     "output_type": "stream",
     "text": [
      "[{'id': '1', 'name': 'Alice', 'email': 'alice@example.com'}, {'id': '2', 'name': 'Bob', 'email': 'bob@example.com'}]\n"
     ]
    }
   ],
   "source": [
    "from typing import List, Dict\n",
    "\n",
    "def deduplicate(records: List[Dict[str, str]]) -> List[Dict[str, str]]:\n",
    "    seen_emails = set()  # Set to track seen emails\n",
    "    unique_records = []  # List to store unique records\n",
    "\n",
    "    for record in records:\n",
    "        email = record[\"email\"]\n",
    "        if email not in seen_emails:\n",
    "            seen_emails.add(email)  # Add the email to the set\n",
    "            unique_records.append(record)  # Add the record to the unique list\n",
    "\n",
    "    return unique_records\n",
    "\n",
    "# Example usage\n",
    "records = [\n",
    "    {\"id\": \"1\", \"name\": \"Alice\", \"email\": \"alice@example.com\"},\n",
    "    {\"id\": \"2\", \"name\": \"Bob\", \"email\": \"bob@example.com\"},\n",
    "    {\"id\": \"3\", \"name\": \"Alice\", \"email\": \"alice@example.com\"}\n",
    "]\n",
    "\n",
    "output = deduplicate(records)\n",
    "print(output)\n",
    "\n"
   ]
  },
  {
   "cell_type": "code",
   "execution_count": null,
   "id": "8134344f-a112-45cd-986f-39f03c4e1c91",
   "metadata": {},
   "outputs": [],
   "source": [
    "\"\"\"\n",
    "4. Question: Sliding Window Aggregation\n",
    "You are given a list of integers representing transaction amounts and a window size k. Write a Python function sliding_window_sum(transactions: List[int], k: int) -> List[int] that returns a list containing the sum of every sliding window of size k.\n",
    "\n",
    "Example:\n",
    "transactions = [10, 20, 30, 40, 50]\n",
    "k = 3\n",
    "Output:\n",
    "[60, 90, 120]\n",
    "Explanation:\n",
    "Sum of the first 3 transactions: 10 + 20 + 30 = 60\n",
    "Sum of the next 3 transactions: 20 + 30 + 40 = 90\n",
    "Sum of the last 3 transactions: 30 + 40 + 50 = 120\n",
    "\"\"\""
   ]
  },
  {
   "cell_type": "code",
   "execution_count": 9,
   "id": "2e3b4cbe-f20d-4ca2-a5dd-d053221db620",
   "metadata": {},
   "outputs": [
    {
     "name": "stdout",
     "output_type": "stream",
     "text": [
      "[60, 90, 120]\n"
     ]
    }
   ],
   "source": [
    "from typing import List\n",
    "\n",
    "def sliding_window_sum(transactions: List[int], k: int) -> List[int]:\n",
    "    window_sums = []\n",
    "    \n",
    "    # Loop through the list and calculate the sum for each sliding window of size k\n",
    "    for i in range(len(transactions) - k + 1):\n",
    "        window_sum = sum(transactions[i:i+k])  # Sum of the current window\n",
    "        window_sums.append(window_sum)\n",
    "    \n",
    "    return window_sums\n",
    "\n",
    "# Example usage\n",
    "transactions = [10, 20, 30, 40, 50]\n",
    "k = 3\n",
    "\n",
    "output = sliding_window_sum(transactions, k)\n",
    "print(output)\n"
   ]
  },
  {
   "cell_type": "code",
   "execution_count": null,
   "id": "3c47807c-83ef-476e-88a5-f90cd05ca3f1",
   "metadata": {},
   "outputs": [],
   "source": [
    "\"\"\"\n",
    "5. Question: Flatten Nested JSON\n",
    "You are given a nested JSON-like dictionary structure. Write a Python function flatten_json(nested_dict: Dict[str, Any]) -> Dict[str, Any] that flattens the dictionary, where nested keys are represented as a concatenation of keys separated by a period (.).\n",
    "\n",
    "Example:\n",
    "nested_dict = {\n",
    "    \"user\": {\n",
    "        \"id\": 1,\n",
    "        \"details\": {\n",
    "            \"name\": \"Alice\",\n",
    "            \"address\": {\n",
    "                \"city\": \"New York\",\n",
    "                \"zipcode\": 10001\n",
    "            }\n",
    "        }\n",
    "    }\n",
    "}\n",
    "Output:\n",
    "{\n",
    "    \"user.id\": 1,\n",
    "    \"user.details.name\": \"Alice\",\n",
    "    \"user.details.address.city\": \"New York\",\n",
    "    \"user.details.address.zipcode\": 10001\n",
    "}\n",
    "\"\"\""
   ]
  },
  {
   "cell_type": "code",
   "execution_count": 10,
   "id": "94f58f66-c5bd-4d9c-ad95-9dd63ddbfd63",
   "metadata": {},
   "outputs": [
    {
     "name": "stdout",
     "output_type": "stream",
     "text": [
      "{'user.id': 1, 'user.details.name': 'Alice', 'user.details.address.city': 'New York', 'user.details.address.zipcode': 10001}\n"
     ]
    }
   ],
   "source": [
    "from typing import Dict, Any\n",
    "\n",
    "def flatten_json(nested_dict: Dict[str, Any], parent_key: str = '', sep: str = '.') -> Dict[str, Any]:\n",
    "    flat_dict = {}\n",
    "    \n",
    "    # Iterate through the dictionary\n",
    "    for key, value in nested_dict.items():\n",
    "        # Create a new key by appending the current key to the parent key\n",
    "        new_key = f\"{parent_key}{sep}{key}\" if parent_key else key\n",
    "        \n",
    "        # If the value is a dictionary, recursively flatten it\n",
    "        if isinstance(value, dict):\n",
    "            flat_dict.update(flatten_json(value, new_key, sep=sep))\n",
    "        else:\n",
    "            flat_dict[new_key] = value\n",
    "    \n",
    "    return flat_dict\n",
    "\n",
    "# Example usage\n",
    "nested_dict = {\n",
    "    \"user\": {\n",
    "        \"id\": 1,\n",
    "        \"details\": {\n",
    "            \"name\": \"Alice\",\n",
    "            \"address\": {\n",
    "                \"city\": \"New York\",\n",
    "                \"zipcode\": 10001\n",
    "            }\n",
    "        }\n",
    "    }\n",
    "}\n",
    "\n",
    "output = flatten_json(nested_dict)\n",
    "print(output)\n"
   ]
  },
  {
   "cell_type": "code",
   "execution_count": null,
   "id": "2188a495-acc1-4835-88a6-550e15dfea3e",
   "metadata": {},
   "outputs": [],
   "source": [
    "\"\"\"\n",
    "6. Question: Find Top N Frequent Words\n",
    "You are given a list of words, and you need to find the top N most frequent words. Write a Python function top_n_frequent_words(words: List[str], n: int) -> List[str] that returns a list of the top N frequent words. The result should be sorted by frequency, and if two words have the same frequency, they should be sorted lexicographically.\n",
    "\n",
    "Example:\n",
    "words = [\"apple\", \"banana\", \"apple\", \"orange\", \"banana\", \"apple\"]\n",
    "n = 2\n",
    "Output:\n",
    "[\"apple\", \"banana\"]\n",
    "\"\"\""
   ]
  },
  {
   "cell_type": "code",
   "execution_count": 11,
   "id": "43016ded-54c2-48b4-8bad-45c669215851",
   "metadata": {},
   "outputs": [
    {
     "name": "stdout",
     "output_type": "stream",
     "text": [
      "['apple', 'banana']\n"
     ]
    }
   ],
   "source": [
    "from typing import List\n",
    "from collections import Counter\n",
    "\n",
    "def top_n_frequent_words(words: List[str], n: int) -> List[str]:\n",
    "    # Count the frequency of each word\n",
    "    word_count = Counter(words)\n",
    "    \n",
    "    # Sort the words first by frequency (in descending order), \n",
    "    # then by lexicographical order (in ascending order)\n",
    "    sorted_words = sorted(word_count.keys(), key=lambda word: (-word_count[word], word))\n",
    "    \n",
    "    # Return the top N frequent words\n",
    "    return sorted_words[:n]\n",
    "\n",
    "# Example usage\n",
    "words = [\"apple\", \"banana\", \"apple\", \"orange\", \"banana\", \"apple\"]\n",
    "n = 2\n",
    "\n",
    "output = top_n_frequent_words(words, n)\n",
    "print(output)\n"
   ]
  },
  {
   "cell_type": "code",
   "execution_count": null,
   "id": "20646908-9522-4b4b-bd9d-4355aea726f4",
   "metadata": {},
   "outputs": [],
   "source": [
    "\"\"\"\n",
    "7. Question: Merge DataFrames\n",
    "You are given two lists of dictionaries, employees and departments, which represent two tables in a relational database. Each employee has a department_id that links them to a department. Write a Python function merge_data(employees: List[Dict[str, Union[str, int]]], departments: List[Dict[str, str]]) -> List[Dict[str, Union[str, int]]] that merges the two datasets into one, adding the department_name to each employee's data.\n",
    "\n",
    "Example:\n",
    "employees = [\n",
    "    {\"id\": 1, \"name\": \"Alice\", \"department_id\": 2},\n",
    "    {\"id\": 2, \"name\": \"Bob\", \"department_id\": 1}\n",
    "]\n",
    "departments = [\n",
    "    {\"id\": 1, \"department_name\": \"Engineering\"},\n",
    "    {\"id\": 2, \"department_name\": \"Marketing\"}\n",
    "]\n",
    "Output:\n",
    "[\n",
    "    {\"id\": 1, \"name\": \"Alice\", \"department_id\": 2, \"department_name\": \"Marketing\"},\n",
    "    {\"id\": 2, \"name\": \"Bob\", \"department_id\": 1, \"department_name\": \"Engineering\"}\n",
    "]\"\"\"\n"
   ]
  },
  {
   "cell_type": "code",
   "execution_count": 12,
   "id": "2b345254-059a-4200-a354-5f811c016e93",
   "metadata": {},
   "outputs": [
    {
     "name": "stdout",
     "output_type": "stream",
     "text": [
      "[{'id': 1, 'name': 'Alice', 'department_id': 2, 'department_name': 'Marketing'}, {'id': 2, 'name': 'Bob', 'department_id': 1, 'department_name': 'Engineering'}]\n"
     ]
    }
   ],
   "source": [
    "from typing import List, Dict, Union\n",
    "\n",
    "def merge_data(employees: List[Dict[str, Union[str, int]]], departments: List[Dict[str, str]]) -> List[Dict[str, Union[str, int]]]:\n",
    "    # Create a dictionary for departments using id as key\n",
    "    department_dict = {department['id']: department['department_name'] for department in departments}\n",
    "    \n",
    "    # Merge the data by adding department_name to each employee's record\n",
    "    merged_data = []\n",
    "    for employee in employees:\n",
    "        department_id = employee['department_id']\n",
    "        department_name = department_dict.get(department_id, None)  # Fetch the department name\n",
    "        merged_employee = {**employee, 'department_name': department_name}\n",
    "        merged_data.append(merged_employee)\n",
    "    \n",
    "    return merged_data\n",
    "\n",
    "# Example usage\n",
    "employees = [\n",
    "    {\"id\": 1, \"name\": \"Alice\", \"department_id\": 2},\n",
    "    {\"id\": 2, \"name\": \"Bob\", \"department_id\": 1}\n",
    "]\n",
    "\n",
    "departments = [\n",
    "    {\"id\": 1, \"department_name\": \"Engineering\"},\n",
    "    {\"id\": 2, \"department_name\": \"Marketing\"}\n",
    "]\n",
    "\n",
    "output = merge_data(employees, departments)\n",
    "print(output)\n"
   ]
  },
  {
   "cell_type": "code",
   "execution_count": null,
   "id": "0fbb55ca-1cd6-4f5f-bbd6-7a300ab80a6f",
   "metadata": {},
   "outputs": [],
   "source": [
    "\"\"\"\n",
    "8. Question: Moving Average of a Data Stream\n",
    "Write a class MovingAverage that computes the moving average of the last k values from a data stream. The class should implement two methods:\n",
    "\n",
    "__init__(self, k: int) initializes the moving average with the window size k.\n",
    "next(self, val: int) -> float returns the moving average of the last k values.\n",
    "Example:\n",
    "ma = MovingAverage(3)\n",
    "print(ma.next(10))  # returns 10.0\n",
    "print(ma.next(20))  # returns 15.0\n",
    "print(ma.next(30))  # returns 20.0\n",
    "print(ma.next(40))  # returns 30.0\n",
    "Explanation:\n",
    "After the first value (10), the average is 10.\n",
    "After the second value (20), the average of [10, 20] is 15.\n",
    "After the third value (30), the average of [10, 20, 30] is 20.\n",
    "After the fourth value (40), the window shifts to [20, 30, 40], and the average is 30.\n",
    "\"\"\""
   ]
  },
  {
   "cell_type": "code",
   "execution_count": 13,
   "id": "aa1ee683-8559-440d-b0dc-2948e92ed97d",
   "metadata": {},
   "outputs": [
    {
     "name": "stdout",
     "output_type": "stream",
     "text": [
      "10.0\n",
      "15.0\n",
      "20.0\n",
      "30.0\n"
     ]
    }
   ],
   "source": [
    "from collections import deque\n",
    "\n",
    "class MovingAverage:\n",
    "    def __init__(self, k: int):\n",
    "        \"\"\"\n",
    "        Initialize the moving average with the window size k.\n",
    "        \"\"\"\n",
    "        self.k = k\n",
    "        self.window = deque()  # To store the last k values\n",
    "        self.window_sum = 0  # To keep the sum of the window elements\n",
    "\n",
    "    def next(self, val: int) -> float:\n",
    "        \"\"\"\n",
    "        Add a new value to the window and return the moving average of the last k values.\n",
    "        \"\"\"\n",
    "        # If the window is full (more than k elements), remove the oldest element\n",
    "        if len(self.window) == self.k:\n",
    "            self.window_sum -= self.window.popleft()\n",
    "\n",
    "        # Add the new value to the window\n",
    "        self.window.append(val)\n",
    "        self.window_sum += val\n",
    "        \n",
    "        # Return the moving average\n",
    "        return self.window_sum / len(self.window)\n",
    "\n",
    "# Example usage:\n",
    "ma = MovingAverage(3)\n",
    "print(ma.next(10))  # returns 10.0\n",
    "print(ma.next(20))  # returns 15.0\n",
    "print(ma.next(30))  # returns 20.0\n",
    "print(ma.next(40))  # returns 30.0\n"
   ]
  },
  {
   "cell_type": "code",
   "execution_count": null,
   "id": "7bd2c573-ff53-4034-86d3-fb01beb91726",
   "metadata": {},
   "outputs": [],
   "source": [
    "\"\"\"\n",
    "9. Question: JSON Field Renaming\n",
    "You are given a list of dictionaries representing JSON objects, where each dictionary has fields name, age, and location. Your task is to write a Python function rename_fields(data: List[Dict[str, Union[str, int]]]) -> List[Dict[str, Union[str, int]]] that renames the field location to city for each dictionary in the list.\n",
    "\n",
    "Example:\n",
    "data = [\n",
    "    {\"name\": \"Alice\", \"age\": 25, \"location\": \"New York\"},\n",
    "    {\"name\": \"Bob\", \"age\": 30, \"location\": \"San Francisco\"}\n",
    "]\n",
    "Output:\n",
    "[\n",
    "    {\"name\": \"Alice\", \"age\": 25, \"city\": \"New York\"},\n",
    "    {\"name\": \"Bob\", \"age\": 30, \"city\": \"San Francisco\"}\n",
    "]\n",
    "\"\"\""
   ]
  },
  {
   "cell_type": "code",
   "execution_count": 15,
   "id": "b47ff451-b83f-432d-9a89-2c61c8c8b556",
   "metadata": {},
   "outputs": [
    {
     "name": "stdout",
     "output_type": "stream",
     "text": [
      "[{'name': 'Alice', 'age': 25, 'city': 'New York'}, {'name': 'Bob', 'age': 30, 'city': 'San Francisco'}]\n"
     ]
    }
   ],
   "source": [
    "from typing import List, Dict, Union\n",
    "\n",
    "def rename_fields(data: List[Dict[str, Union[str, int]]]) -> List[Dict[str, Union[str, int]]]:\n",
    "    for item in data:\n",
    "        # If the key 'location' exists, rename it to 'city'\n",
    "        if 'location' in item:\n",
    "            item['city'] = item.pop('location')\n",
    "    return data\n",
    "\n",
    "# Example usage\n",
    "data = [\n",
    "    {\"name\": \"Alice\", \"age\": 25, \"location\": \"New York\"},\n",
    "    {\"name\": \"Bob\", \"age\": 30, \"location\": \"San Francisco\"}\n",
    "]\n",
    "\n",
    "output = rename_fields(data)\n",
    "print(output)\n"
   ]
  },
  {
   "cell_type": "code",
   "execution_count": null,
   "id": "cc813990-ff10-4e50-8c38-58f62bc71cf9",
   "metadata": {},
   "outputs": [],
   "source": [
    "\"\"\"\n",
    "10. Question: Reformat Date Strings\n",
    "You are given a list of date strings in the format \"DD-MM-YYYY\". Write a Python function reformat_dates(dates: List[str]) -> List[str] that reformats each date into the format \"YYYY-MM-DD\".\n",
    "\n",
    "Example:\n",
    "dates = [\"31-12-2024\", \"01-01-2024\"]\n",
    "Output:\n",
    "[\"2024-12-31\", \"2024-01-01\"]\n",
    "\"\"\""
   ]
  },
  {
   "cell_type": "code",
   "execution_count": 16,
   "id": "c839ba5d-64c4-4357-9728-720bb87e1ba9",
   "metadata": {},
   "outputs": [
    {
     "name": "stdout",
     "output_type": "stream",
     "text": [
      "['2024-12-31', '2024-01-01']\n"
     ]
    }
   ],
   "source": [
    "from typing import List\n",
    "\n",
    "def reformat_dates(dates: List[str]) -> List[str]:\n",
    "    reformatted_dates = []\n",
    "    for date in dates:\n",
    "        day, month, year = date.split('-')  # Split the date string by the '-' delimiter\n",
    "        # Reformat and append the date in \"YYYY-MM-DD\" format\n",
    "        reformatted_dates.append(f\"{year}-{month}-{day}\")\n",
    "    return reformatted_dates\n",
    "\n",
    "# Example usage\n",
    "dates = [\"31-12-2024\", \"01-01-2024\"]\n",
    "output = reformat_dates(dates)\n",
    "print(output)\n"
   ]
  },
  {
   "cell_type": "code",
   "execution_count": null,
   "id": "7989301d-8a7b-4787-ab33-3c6ffa7618f7",
   "metadata": {},
   "outputs": [],
   "source": []
  }
 ],
 "metadata": {
  "kernelspec": {
   "display_name": "Python 3 (ipykernel)",
   "language": "python",
   "name": "python3"
  },
  "language_info": {
   "codemirror_mode": {
    "name": "ipython",
    "version": 3
   },
   "file_extension": ".py",
   "mimetype": "text/x-python",
   "name": "python",
   "nbconvert_exporter": "python",
   "pygments_lexer": "ipython3",
   "version": "3.10.1"
  }
 },
 "nbformat": 4,
 "nbformat_minor": 5
}
